{
 "cells": [
  {
   "cell_type": "code",
   "execution_count": 1,
   "metadata": {
    "scrolled": true
   },
   "outputs": [],
   "source": [
    "import numpy as np\n",
    "import pandas as pd\n",
    "import statistics\n",
    "from matplotlib import pyplot as plt"
   ]
  },
  {
   "cell_type": "code",
   "execution_count": 2,
   "metadata": {},
   "outputs": [
    {
     "data": {
      "text/html": [
       "<div>\n",
       "<style scoped>\n",
       "    .dataframe tbody tr th:only-of-type {\n",
       "        vertical-align: middle;\n",
       "    }\n",
       "\n",
       "    .dataframe tbody tr th {\n",
       "        vertical-align: top;\n",
       "    }\n",
       "\n",
       "    .dataframe thead th {\n",
       "        text-align: right;\n",
       "    }\n",
       "</style>\n",
       "<table border=\"1\" class=\"dataframe\">\n",
       "  <thead>\n",
       "    <tr style=\"text-align: right;\">\n",
       "      <th></th>\n",
       "      <th>Survived</th>\n",
       "      <th>Passanger Class</th>\n",
       "      <th>Name</th>\n",
       "      <th>Sex</th>\n",
       "      <th>Age</th>\n",
       "      <th>Siblings/Spouses Aboard</th>\n",
       "      <th>Parents/Children Aboard</th>\n",
       "      <th>Fare in British Pounds</th>\n",
       "    </tr>\n",
       "  </thead>\n",
       "  <tbody>\n",
       "    <tr>\n",
       "      <th>0</th>\n",
       "      <td>0</td>\n",
       "      <td>3</td>\n",
       "      <td>Mr. Owen Harris Braund</td>\n",
       "      <td>male</td>\n",
       "      <td>22.0</td>\n",
       "      <td>1</td>\n",
       "      <td>0</td>\n",
       "      <td>7.2500</td>\n",
       "    </tr>\n",
       "    <tr>\n",
       "      <th>1</th>\n",
       "      <td>1</td>\n",
       "      <td>1</td>\n",
       "      <td>Mrs. John Bradley (Florence Briggs Thayer) Cum...</td>\n",
       "      <td>female</td>\n",
       "      <td>38.0</td>\n",
       "      <td>1</td>\n",
       "      <td>0</td>\n",
       "      <td>71.2833</td>\n",
       "    </tr>\n",
       "    <tr>\n",
       "      <th>2</th>\n",
       "      <td>1</td>\n",
       "      <td>3</td>\n",
       "      <td>Miss. Laina Heikkinen</td>\n",
       "      <td>female</td>\n",
       "      <td>26.0</td>\n",
       "      <td>0</td>\n",
       "      <td>0</td>\n",
       "      <td>7.9250</td>\n",
       "    </tr>\n",
       "    <tr>\n",
       "      <th>3</th>\n",
       "      <td>1</td>\n",
       "      <td>1</td>\n",
       "      <td>Mrs. Jacques Heath (Lily May Peel) Futrelle</td>\n",
       "      <td>female</td>\n",
       "      <td>35.0</td>\n",
       "      <td>1</td>\n",
       "      <td>0</td>\n",
       "      <td>53.1000</td>\n",
       "    </tr>\n",
       "    <tr>\n",
       "      <th>4</th>\n",
       "      <td>0</td>\n",
       "      <td>3</td>\n",
       "      <td>Mr. William Henry Allen</td>\n",
       "      <td>male</td>\n",
       "      <td>35.0</td>\n",
       "      <td>0</td>\n",
       "      <td>0</td>\n",
       "      <td>8.0500</td>\n",
       "    </tr>\n",
       "  </tbody>\n",
       "</table>\n",
       "</div>"
      ],
      "text/plain": [
       "   Survived  Passanger Class  \\\n",
       "0         0                3   \n",
       "1         1                1   \n",
       "2         1                3   \n",
       "3         1                1   \n",
       "4         0                3   \n",
       "\n",
       "                                                Name     Sex   Age  \\\n",
       "0                             Mr. Owen Harris Braund    male  22.0   \n",
       "1  Mrs. John Bradley (Florence Briggs Thayer) Cum...  female  38.0   \n",
       "2                              Miss. Laina Heikkinen  female  26.0   \n",
       "3        Mrs. Jacques Heath (Lily May Peel) Futrelle  female  35.0   \n",
       "4                            Mr. William Henry Allen    male  35.0   \n",
       "\n",
       "   Siblings/Spouses Aboard  Parents/Children Aboard  Fare in British Pounds  \n",
       "0                        1                        0                  7.2500  \n",
       "1                        1                        0                 71.2833  \n",
       "2                        0                        0                  7.9250  \n",
       "3                        1                        0                 53.1000  \n",
       "4                        0                        0                  8.0500  "
      ]
     },
     "execution_count": 2,
     "metadata": {},
     "output_type": "execute_result"
    }
   ],
   "source": [
    "data = pd.read_csv(\"titanic.csv\")\n",
    "data.head()"
   ]
  },
  {
   "cell_type": "code",
   "execution_count": 3,
   "metadata": {},
   "outputs": [
    {
     "name": "stdout",
     "output_type": "stream",
     "text": [
      "The average price of a first class passenger ticket is: 84.15 British pounds\n",
      "Which is $ 107.72 U.S. dollars\n"
     ]
    }
   ],
   "source": [
    "# Question 1, What was the average cost in U.S. dollars of a first-class ticket?\n",
    "\n",
    "first_prices = data.loc[data['Passanger Class'] == 1][\"Fare in British Pounds\"]\n",
    "average_price = sum(first_prices) / len(first_prices)\n",
    "\n",
    "print('The average price of a first class passenger ticket is:', round(average_price, 2), 'British pounds')\n",
    "print('Which is $', round(average_price * 1.28, 2), 'U.S. dollars')"
   ]
  },
  {
   "cell_type": "code",
   "execution_count": 4,
   "metadata": {},
   "outputs": [
    {
     "name": "stdout",
     "output_type": "stream",
     "text": [
      "There are 23 passengers over the age of 20 with siblings onboard\n"
     ]
    }
   ],
   "source": [
    "# Question 2, How many passengers over 20 had siblings onboard?\n",
    "\n",
    "siblings = data.loc[(data[\"Age\"] > 20) & (data[\"Siblings/Spouses Aboard\"] > 1)]\n",
    "print(\"There are\", len(siblings), \"passengers over the age of 20 with siblings onboard\")"
   ]
  },
  {
   "cell_type": "code",
   "execution_count": 5,
   "metadata": {},
   "outputs": [
    {
     "name": "stdout",
     "output_type": "stream",
     "text": [
      "The median age of passengers who did not survive was 28\n"
     ]
    }
   ],
   "source": [
    "# Question 3, What was the median age of those who did not survive?\n",
    "died = data.loc[(data[\"Survived\"] == 0)]\n",
    "median_age = statistics.median(died[\"Age\"])\n",
    "print(\"The median age of passengers who did not survive was\", round(median_age))"
   ]
  },
  {
   "cell_type": "code",
   "execution_count": 6,
   "metadata": {},
   "outputs": [
    {
     "name": "stdout",
     "output_type": "stream",
     "text": [
      "                 Survived\n",
      "Passanger Class          \n",
      "1                    63.0\n",
      "2                    47.3\n",
      "3                    24.4\n"
     ]
    }
   ],
   "source": [
    "# Question 4, What were the survival rates of passengers in each class?\n",
    "\n",
    "print(round(data [['Passanger Class','Survived']].groupby(['Passanger Class']).mean()*100,1))\n"
   ]
  },
  {
   "cell_type": "code",
   "execution_count": 7,
   "metadata": {},
   "outputs": [
    {
     "name": "stdout",
     "output_type": "stream",
     "text": [
      "38.56 % of all passengers survived\n"
     ]
    }
   ],
   "source": [
    "# Question 5, What was the average survival rate of all the passengers?\n",
    "\n",
    "survival = data['Survived'].mean()*100\n",
    "print(round(survival,2),'% of all passengers survived')\n"
   ]
  },
  {
   "cell_type": "code",
   "execution_count": 8,
   "metadata": {},
   "outputs": [
    {
     "name": "stdout",
     "output_type": "stream",
     "text": [
      "42 children under the age of 12 survived the tragedy of the Titanic\n"
     ]
    }
   ],
   "source": [
    "# Question 6, How many children under the age of 12 survived?\n",
    "\n",
    "children_survival = data.loc[(data[\"Age\"] < 12) & (data[\"Survived\"] == 1)]\n",
    "print(len(children_survival),'children under the age of 12 survived the tragedy of the Titanic')\n",
    "\n"
   ]
  },
  {
   "cell_type": "code",
   "execution_count": 9,
   "metadata": {},
   "outputs": [
    {
     "data": {
      "image/png": "[encoded data removed]",
      "text/plain": [
       "<Figure size 432x288 with 1 Axes>"
      ]
     },
     "metadata": {},
     "output_type": "display_data"
    }
   ],
   "source": [
    "# Graph 1, pie chart of male and female passengers\n",
    "\n",
    "males_females = data.Sex.value_counts()\n",
    "def make_autopct(males_females):\n",
    "    def my_autopct(pct):\n",
    "        total = sum(males_females)\n",
    "        val = int(round(pct*total/100.0))\n",
    "        return '{p:.2f}%  ({v:d})'.format(p=pct,v=val)\n",
    "    return my_autopct\n",
    "plt.pie(males_females, labels = ['Male', 'Female'], autopct=make_autopct(males_females))\n",
    "plt.show()"
   ]
  },
  {
   "cell_type": "code",
   "execution_count": 10,
   "metadata": {},
   "outputs": [
    {
     "name": "stdout",
     "output_type": "stream",
     "text": [
      "233 females survived and 109 males survived\n"
     ]
    },
    {
     "data": {
      "image/png": "[encoded data removed]",
      "text/plain": [
       "<Figure size 432x288 with 1 Axes>"
      ]
     },
     "metadata": {
      "needs_background": "light"
     },
     "output_type": "display_data"
    }
   ],
   "source": [
    "# Graph 2, bar chart of male and female survivors\n",
    "\n",
    "survived_sex = data.loc[data['Survived'] == 1]['Sex']\n",
    "xx_survived = sum(survived_sex.str.count('female'))\n",
    "total_survived = len(survived_sex)\n",
    "xy_survived = total_survived - xx_survived\n",
    "\n",
    "print(xx_survived,'females survived and', xy_survived, 'males survived')\n",
    "\n",
    "labels = ['Females', 'Males']\n",
    "values = [xx_survived, xy_survived]\n",
    "plt.bar(labels, values, color=['pink', 'dodgerblue'])\n",
    "plt.ylabel('Number of survivors')\n",
    "plt.show()"
   ]
  },
  {
   "cell_type": "code",
   "execution_count": 11,
   "metadata": {},
   "outputs": [
    {
     "data": {
      "text/plain": [
       "Text(0.5, 0, 'Passenger Age')"
      ]
     },
     "execution_count": 11,
     "metadata": {},
     "output_type": "execute_result"
    },
    {
     "data": {
      "image/png": "[encoded data removed]",
      "text/plain": [
       "<Figure size 432x288 with 1 Axes>"
      ]
     },
     "metadata": {
      "needs_background": "light"
     },
     "output_type": "display_data"
    }
   ],
   "source": [
    "# Graph 3, bar chart to show the count of each age\n",
    "# Age is continous and so the ages will be grouped to make visualization easier, if you want to graph each individual age\n",
    "# as a bar chart, run the commented code below and you will see why it needs to be grouped as a histogram\n",
    "# data['Age'].plot(kind=\"bar\")\n",
    "\n",
    "plt.hist(data['Age'],bins = 35, edgecolor='black', linewidth=1.2)\n",
    "plt.ylabel('Frequency')\n",
    "plt.xlabel('Passenger Age')"
   ]
  },
  {
   "cell_type": "code",
   "execution_count": 12,
   "metadata": {},
   "outputs": [
    {
     "data": {
      "text/plain": [
       "Text(0.5, 0, 'Proportion died and survived')"
      ]
     },
     "execution_count": 12,
     "metadata": {},
     "output_type": "execute_result"
    },
    {
     "data": {
      "image/png": "[encoded data removed]",
      "text/plain": [
       "<Figure size 432x432 with 1 Axes>"
      ]
     },
     "metadata": {
      "needs_background": "light"
     },
     "output_type": "display_data"
    }
   ],
   "source": [
    "# Graph 4, a bar chart of the proportions of survival and death among all passengers\n",
    "\n",
    "fig = plt.figure(figsize=(6,6))     \n",
    "data.Survived.value_counts(normalize=True).plot(kind=\"bar\",alpha=1, color = ['crimson', 'navy'])\n",
    "plt.ylabel('Frequency')\n",
    "plt.xlabel('Proportion died and survived')\n"
   ]
  },
  {
   "cell_type": "code",
   "execution_count": 15,
   "metadata": {},
   "outputs": [
    {
     "data": {
      "text/plain": [
       "Text(0.5, 0, 'Passenger class')"
      ]
     },
     "execution_count": 15,
     "metadata": {},
     "output_type": "execute_result"
    },
    {
     "data": {
      "image/png": "[encoded data removed]",
      "text/plain": [
       "<Figure size 432x288 with 1 Axes>"
      ]
     },
     "metadata": {
      "needs_background": "light"
     },
     "output_type": "display_data"
    }
   ],
   "source": [
    "# Graph 5, a bar chart of the number of passengers per class\n",
    "\n",
    "data['Passanger Class'].value_counts().plot(kind=\"bar\", color = ['crimson', 'navy', 'yellow'])\n",
    "plt.ylabel('Frequency')\n",
    "plt.xlabel('Passenger class')\n"
   ]
  },
  {
   "cell_type": "code",
   "execution_count": 16,
   "metadata": {},
   "outputs": [
    {
     "data": {
      "text/plain": [
       "<matplotlib.legend.Legend at 0x7c41015bbc50>"
      ]
     },
     "execution_count": 16,
     "metadata": {},
     "output_type": "execute_result"
    },
    {
     "data": {
      "image/png": "[encoded data removed]",
      "text/plain": [
       "<Figure size 432x288 with 1 Axes>"
      ]
     },
     "metadata": {
      "needs_background": "light"
     },
     "output_type": "display_data"
    }
   ],
   "source": [
    "# Graph 6, a plot of the kernel density estimates of the three passenger classes\n",
    "\n",
    "for x in [1,2,3]:    ## for 3 classes\n",
    "    data.Age[data['Passanger Class'] == x].plot(kind=\"kde\")\n",
    "plt.title(\"Age kernel density estimation by passenger class\")\n",
    "plt.legend((\"1st\",\"2nd\",\"3rd\"))"
   ]
  },
  {
   "cell_type": "code",
   "execution_count": null,
   "metadata": {},
   "outputs": [],
   "source": []
  },
  {
   "cell_type": "code",
   "execution_count": null,
   "metadata": {},
   "outputs": [],
   "source": []
  },
  {
   "cell_type": "code",
   "execution_count": null,
   "metadata": {},
   "outputs": [],
   "source": []
  }
 ],
 "metadata": {
  "kernelspec": {
   "display_name": "venv",
   "language": "python",
   "name": "venv"
  },
  "language_info": {
   "codemirror_mode": {
    "name": "ipython",
    "version": 3
   },
   "file_extension": ".py",
   "mimetype": "text/x-python",
   "name": "python",
   "nbconvert_exporter": "python",
   "pygments_lexer": "ipython3",
   "version": "3.7.3"
  }
 },
 "nbformat": 4,
 "nbformat_minor": 4
}
